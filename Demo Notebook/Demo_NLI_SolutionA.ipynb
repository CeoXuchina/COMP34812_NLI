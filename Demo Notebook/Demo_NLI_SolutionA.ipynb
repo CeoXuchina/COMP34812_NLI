{
 "cells": [
  {
   "cell_type": "code",
   "execution_count": 3,
   "metadata": {
    "execution": {
     "iopub.execute_input": "2025-04-03T21:43:29.704366Z",
     "iopub.status.busy": "2025-04-03T21:43:29.703851Z",
     "iopub.status.idle": "2025-04-03T21:43:29.710078Z",
     "shell.execute_reply": "2025-04-03T21:43:29.708930Z",
     "shell.execute_reply.started": "2025-04-03T21:43:29.704332Z"
    },
    "trusted": true
   },
   "outputs": [],
   "source": [
    "import pandas as pd\n",
    "import numpy as np\n",
    "import string\n",
    "import re\n",
    "from nltk.corpus import stopwords\n",
    "from sklearn.feature_extraction.text import TfidfVectorizer,CountVectorizer\n",
    "from sklearn.linear_model import LogisticRegression\n",
    "from sklearn.pipeline import Pipeline\n",
    "from sklearn.metrics import classification_report, accuracy_score, f1_score\n",
    "from sklearn.svm import LinearSVC\n",
    "from sklearn.naive_bayes import MultinomialNB\n",
    "from sklearn.ensemble import RandomForestClassifier\n",
    "import pandas as pd\n",
    "from IPython.display import display\n",
    "import itertools\n",
    "import joblib"
   ]
  },
  {
   "cell_type": "code",
   "execution_count": 4,
   "metadata": {
    "execution": {
     "iopub.execute_input": "2025-04-03T21:43:33.095737Z",
     "iopub.status.busy": "2025-04-03T21:43:33.095414Z",
     "iopub.status.idle": "2025-04-03T21:43:33.157997Z",
     "shell.execute_reply": "2025-04-03T21:43:33.156942Z",
     "shell.execute_reply.started": "2025-04-03T21:43:33.095713Z"
    },
    "trusted": true
   },
   "outputs": [
    {
     "name": "stdout",
     "output_type": "stream",
     "text": [
      "Test columns: Index(['premise', 'hypothesis'], dtype='object')\n"
     ]
    }
   ],
   "source": [
    "df_test = pd.read_csv('/kaggle/input/testdata/test.csv')\n",
    "print(\"Test columns:\", df_test.columns)\n",
    "\n",
    "def pre_clean(text):\n",
    "    # Case folding\n",
    "    text = text.lower()\n",
    "    # keep english words,numbers and space \n",
    "    text = re.sub(r'[^a-zA-Z0-9\\s]', '', text)\n",
    "    words = text.split()\n",
    "    # Remove stop words\n",
    "    # words = [word for word in words if word not in stop_words]\n",
    "    return ' '.join(words)\n",
    "df_test['premise'] = df_test['premise'].apply(pre_clean)\n",
    "df_test['hypothesis'] = df_test['hypothesis'].apply(pre_clean)  \n",
    "X_test = df_test['premise'] + ' [SEP] ' + df_test['hypothesis'].astype(str)"
   ]
  },
  {
   "cell_type": "code",
   "execution_count": null,
   "metadata": {
    "_cell_guid": "b1076dfc-b9ad-4769-8c92-a6c4dae69d19",
    "_uuid": "8f2839f25d086af736a60e9eeb907d3b93b6e0e5",
    "execution": {
     "iopub.execute_input": "2025-04-03T21:43:37.192251Z",
     "iopub.status.busy": "2025-04-03T21:43:37.191883Z",
     "iopub.status.idle": "2025-04-03T21:43:40.783123Z",
     "shell.execute_reply": "2025-04-03T21:43:40.782096Z",
     "shell.execute_reply.started": "2025-04-03T21:43:37.192220Z"
    },
    "trusted": true
   },
   "outputs": [],
   "source": [
    "# Load the saved TF-IDF vectorizer from file\n",
    "vectorizer_rf_best = joblib.load('/kaggle/input/trainedmodel/vectorizer_rf_best.pkl')\n",
    "# Load the trained Random Forest model from file\n",
    "rf_best = joblib.load('/kaggle/input/trainedmodel/rf_best_model.pkl')\n",
    "# Transform the test data using the loaded TF-IDF vectorizer\n",
    "X_test_tfidf = vectorizer_rf_best.transform(X_test) \n",
    "# Generate predictions on the transformed test data using the loaded model\n",
    "y_pred = rf_best.predict(X_test_tfidf)\n"
   ]
  },
  {
   "cell_type": "code",
   "execution_count": 6,
   "metadata": {
    "execution": {
     "iopub.execute_input": "2025-04-03T21:46:00.766393Z",
     "iopub.status.busy": "2025-04-03T21:46:00.765948Z",
     "iopub.status.idle": "2025-04-03T21:46:00.780406Z",
     "shell.execute_reply": "2025-04-03T21:46:00.779098Z",
     "shell.execute_reply.started": "2025-04-03T21:46:00.766358Z"
    },
    "trusted": true
   },
   "outputs": [],
   "source": [
    "df_out = pd.DataFrame({'prediction': y_pred})\n",
    "csv_path = \"Group_16_A.csv\"\n",
    "df_out.to_csv(csv_path, index=False)"
   ]
  }
 ],
 "metadata": {
  "kaggle": {
   "accelerator": "none",
   "dataSources": [
    {
     "datasetId": 7043699,
     "sourceId": 11268236,
     "sourceType": "datasetVersion"
    },
    {
     "datasetId": 7034734,
     "sourceId": 11256300,
     "sourceType": "datasetVersion"
    }
   ],
   "dockerImageVersionId": 30918,
   "isGpuEnabled": false,
   "isInternetEnabled": true,
   "language": "python",
   "sourceType": "notebook"
  },
  "kernelspec": {
   "display_name": "Python 3",
   "language": "python",
   "name": "python3"
  },
  "language_info": {
   "codemirror_mode": {
    "name": "ipython",
    "version": 3
   },
   "file_extension": ".py",
   "mimetype": "text/x-python",
   "name": "python",
   "nbconvert_exporter": "python",
   "pygments_lexer": "ipython3",
   "version": "3.10.12"
  }
 },
 "nbformat": 4,
 "nbformat_minor": 4
}
